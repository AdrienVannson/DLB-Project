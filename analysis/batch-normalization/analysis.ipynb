{
 "cells": [
  {
   "cell_type": "markdown",
   "metadata": {},
   "source": [
    "# Batch normalization analysis"
   ]
  },
  {
   "cell_type": "code",
   "execution_count": 5,
   "metadata": {},
   "outputs": [],
   "source": [
    "import pandas as pd\n",
    "import statsmodels.formula.api as smf"
   ]
  },
  {
   "cell_type": "code",
   "execution_count": 6,
   "metadata": {},
   "outputs": [],
   "source": [
    "with_bn = pd.read_csv(\"with-batch-norm.csv\")\n",
    "with_bn = with_bn[with_bn[\"split\"] == \"val\"].reset_index()[[\"acc_mean\"]]\n",
    "with_bn[\"has_bn\"] = pd.Series([1] * len(with_bn))\n",
    "assert(len(with_bn) == 42)\n",
    "\n",
    "without_bn = pd.read_csv(\"without-batch-norm.csv\")\n",
    "without_bn = without_bn[without_bn[\"split\"] == \"val\"].reset_index()[[\"acc_mean\"]]\n",
    "without_bn[\"has_bn\"] = pd.Series([0] * len(without_bn))\n",
    "assert(len(without_bn) == 42)"
   ]
  },
  {
   "cell_type": "code",
   "execution_count": 7,
   "metadata": {},
   "outputs": [
    {
     "data": {
      "text/html": [
       "<div>\n",
       "<style scoped>\n",
       "    .dataframe tbody tr th:only-of-type {\n",
       "        vertical-align: middle;\n",
       "    }\n",
       "\n",
       "    .dataframe tbody tr th {\n",
       "        vertical-align: top;\n",
       "    }\n",
       "\n",
       "    .dataframe thead th {\n",
       "        text-align: right;\n",
       "    }\n",
       "</style>\n",
       "<table border=\"1\" class=\"dataframe\">\n",
       "  <thead>\n",
       "    <tr style=\"text-align: right;\">\n",
       "      <th></th>\n",
       "      <th>index</th>\n",
       "      <th>acc_mean</th>\n",
       "      <th>has_bn</th>\n",
       "    </tr>\n",
       "  </thead>\n",
       "  <tbody>\n",
       "    <tr>\n",
       "      <th>0</th>\n",
       "      <td>0</td>\n",
       "      <td>52.444444</td>\n",
       "      <td>1</td>\n",
       "    </tr>\n",
       "    <tr>\n",
       "      <th>1</th>\n",
       "      <td>1</td>\n",
       "      <td>37.333333</td>\n",
       "      <td>1</td>\n",
       "    </tr>\n",
       "    <tr>\n",
       "      <th>2</th>\n",
       "      <td>2</td>\n",
       "      <td>49.777778</td>\n",
       "      <td>1</td>\n",
       "    </tr>\n",
       "    <tr>\n",
       "      <th>3</th>\n",
       "      <td>3</td>\n",
       "      <td>48.888889</td>\n",
       "      <td>1</td>\n",
       "    </tr>\n",
       "    <tr>\n",
       "      <th>4</th>\n",
       "      <td>4</td>\n",
       "      <td>42.222222</td>\n",
       "      <td>1</td>\n",
       "    </tr>\n",
       "    <tr>\n",
       "      <th>...</th>\n",
       "      <td>...</td>\n",
       "      <td>...</td>\n",
       "      <td>...</td>\n",
       "    </tr>\n",
       "    <tr>\n",
       "      <th>247</th>\n",
       "      <td>37</td>\n",
       "      <td>50.222222</td>\n",
       "      <td>0</td>\n",
       "    </tr>\n",
       "    <tr>\n",
       "      <th>248</th>\n",
       "      <td>38</td>\n",
       "      <td>17.777778</td>\n",
       "      <td>0</td>\n",
       "    </tr>\n",
       "    <tr>\n",
       "      <th>249</th>\n",
       "      <td>39</td>\n",
       "      <td>45.333333</td>\n",
       "      <td>0</td>\n",
       "    </tr>\n",
       "    <tr>\n",
       "      <th>250</th>\n",
       "      <td>40</td>\n",
       "      <td>33.777778</td>\n",
       "      <td>0</td>\n",
       "    </tr>\n",
       "    <tr>\n",
       "      <th>251</th>\n",
       "      <td>41</td>\n",
       "      <td>56.444444</td>\n",
       "      <td>0</td>\n",
       "    </tr>\n",
       "  </tbody>\n",
       "</table>\n",
       "<p>252 rows × 3 columns</p>\n",
       "</div>"
      ],
      "text/plain": [
       "     index   acc_mean  has_bn\n",
       "0        0  52.444444       1\n",
       "1        1  37.333333       1\n",
       "2        2  49.777778       1\n",
       "3        3  48.888889       1\n",
       "4        4  42.222222       1\n",
       "..     ...        ...     ...\n",
       "247     37  50.222222       0\n",
       "248     38  17.777778       0\n",
       "249     39  45.333333       0\n",
       "250     40  33.777778       0\n",
       "251     41  56.444444       0\n",
       "\n",
       "[252 rows x 3 columns]"
      ]
     },
     "execution_count": 7,
     "metadata": {},
     "output_type": "execute_result"
    }
   ],
   "source": [
    "df = pd.concat([with_bn, without_bn]).reset_index()\n",
    "df"
   ]
  },
  {
   "cell_type": "code",
   "execution_count": 8,
   "metadata": {},
   "outputs": [
    {
     "name": "stdout",
     "output_type": "stream",
     "text": [
      "                            OLS Regression Results                            \n",
      "==============================================================================\n",
      "Dep. Variable:               acc_mean   R-squared:                       0.000\n",
      "Model:                            OLS   Adj. R-squared:                 -0.004\n",
      "Method:                 Least Squares   F-statistic:                   0.03304\n",
      "Date:                Wed, 13 Dec 2023   Prob (F-statistic):              0.856\n",
      "Time:                        19:28:37   Log-Likelihood:                -923.15\n",
      "No. Observations:                 252   AIC:                             1850.\n",
      "Df Residuals:                     250   BIC:                             1857.\n",
      "Df Model:                           1                                         \n",
      "Covariance Type:            nonrobust                                         \n",
      "==============================================================================\n",
      "                 coef    std err          t      P>|t|      [0.025      0.975]\n",
      "------------------------------------------------------------------------------\n",
      "Intercept     45.9788      0.844     54.487      0.000      44.317      47.641\n",
      "has_bn         0.2169      1.193      0.182      0.856      -2.133       2.567\n",
      "==============================================================================\n",
      "Omnibus:                       11.209   Durbin-Watson:                   2.284\n",
      "Prob(Omnibus):                  0.004   Jarque-Bera (JB):               11.490\n",
      "Skew:                          -0.474   Prob(JB):                      0.00320\n",
      "Kurtosis:                       3.444   Cond. No.                         2.62\n",
      "==============================================================================\n",
      "\n",
      "Notes:\n",
      "[1] Standard Errors assume that the covariance matrix of the errors is correctly specified.\n"
     ]
    }
   ],
   "source": [
    "print(smf.ols(formula='acc_mean ~ has_bn', data=df).fit().summary())"
   ]
  }
 ],
 "metadata": {
  "kernelspec": {
   "display_name": "epfl-ada",
   "language": "python",
   "name": "python3"
  },
  "language_info": {
   "codemirror_mode": {
    "name": "ipython",
    "version": 3
   },
   "file_extension": ".py",
   "mimetype": "text/x-python",
   "name": "python",
   "nbconvert_exporter": "python",
   "pygments_lexer": "ipython3",
   "version": "3.9.18"
  }
 },
 "nbformat": 4,
 "nbformat_minor": 2
}
